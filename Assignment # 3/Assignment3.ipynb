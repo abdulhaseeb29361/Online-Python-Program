{
 "cells": [
  {
   "cell_type": "code",
   "execution_count": 7,
   "id": "d7570011",
   "metadata": {},
   "outputs": [
    {
     "name": "stdout",
     "output_type": "stream",
     "text": [
      "Twinkle, twinkle, little star,\n",
      "\tHow I wonder what you are!\n",
      "\t\tUp above the world so high,\n",
      "\t\tLike a diamond in the sky.\n",
      "Twinkle, twinkle, little star,\n",
      "\tHow I wonder what you are\n"
     ]
    }
   ],
   "source": [
    "print(\"Twinkle, twinkle, little star,\\n\\tHow I wonder what you are!\\n\\t\\tUp above the world so high,\\n\\t\\tLike a diamond in the sky.\\nTwinkle, twinkle, little star,\\n\\tHow I wonder what you are\")"
   ]
  },
  {
   "cell_type": "code",
   "execution_count": 8,
   "id": "279b1420",
   "metadata": {},
   "outputs": [
    {
     "name": "stdout",
     "output_type": "stream",
     "text": [
      "Python version\n",
      "3.8.8 (default, Apr 13 2021, 15:08:03) [MSC v.1916 64 bit (AMD64)]\n",
      "Version info.\n",
      "sys.version_info(major=3, minor=8, micro=8, releaselevel='final', serial=0)\n"
     ]
    }
   ],
   "source": [
    "import sys\n",
    "print(\"Python version\")\n",
    "print (sys.version)\n",
    "print(\"Version info.\")\n",
    "print (sys.version_info)"
   ]
  },
  {
   "cell_type": "code",
   "execution_count": 9,
   "id": "36877053",
   "metadata": {},
   "outputs": [
    {
     "name": "stdout",
     "output_type": "stream",
     "text": [
      "Current date and time : \n",
      "2021-10-23 21:50:11\n"
     ]
    }
   ],
   "source": [
    "import datetime\n",
    "now = datetime.datetime.now()\n",
    "print (\"Current date and time : \")\n",
    "print (now.strftime(\"%Y-%m-%d %H:%M:%S\"))"
   ]
  },
  {
   "cell_type": "code",
   "execution_count": 10,
   "id": "ed5d644c",
   "metadata": {},
   "outputs": [
    {
     "name": "stdout",
     "output_type": "stream",
     "text": [
      "Input the radius of the circle : 1.2\n",
      "The area of the circle with radius 1.2 is: 4.523893421169302\n"
     ]
    }
   ],
   "source": [
    "from math import pi\n",
    "r = float(input (\"Input the radius of the circle : \"))\n",
    "print (\"The area of the circle with radius \" + str(r) + \" is: \" + str(pi * r**2))"
   ]
  },
  {
   "cell_type": "code",
   "execution_count": 11,
   "id": "3f681887",
   "metadata": {},
   "outputs": [
    {
     "name": "stdout",
     "output_type": "stream",
     "text": [
      "Input your First Name : Abdul Haseeb\n",
      "Input your Last Name : Khan\n",
      "Khan Abdul Haseeb\n"
     ]
    }
   ],
   "source": [
    "firstname = input(\"Input your First Name : \")\n",
    "lastname = input(\"Input your Last Name : \")\n",
    "print (lastname + \" \" + firstname)"
   ]
  },
  {
   "cell_type": "code",
   "execution_count": 12,
   "id": "a7e96af1",
   "metadata": {},
   "outputs": [
    {
     "name": "stdout",
     "output_type": "stream",
     "text": [
      "enter first number: 3\n",
      "enter second number: 5\n",
      "sum: 8\n"
     ]
    }
   ],
   "source": [
    "a = int(input(\"enter first number: \"))\n",
    "b = int(input(\"enter second number: \"))\n",
    "sum = a + b;\n",
    "print(\"sum:\", sum)"
   ]
  },
  {
   "cell_type": "code",
   "execution_count": 13,
   "id": "e4246e97",
   "metadata": {},
   "outputs": [
    {
     "name": "stdout",
     "output_type": "stream",
     "text": [
      "Enter a number: 2\n",
      "This is an even number.\n"
     ]
    }
   ],
   "source": [
    "num = int(input(\"Enter a number: \"));\n",
    "mod = num % 2;\n",
    "if mod > 0:\n",
    "    print(\"This is an odd number. \");\n",
    "else: \n",
    "    print(\"This is an even number.\");"
   ]
  },
  {
   "cell_type": "code",
   "execution_count": 14,
   "id": "e6a9ef6d",
   "metadata": {},
   "outputs": [
    {
     "name": "stdout",
     "output_type": "stream",
     "text": [
      "Number of items in the list =  5\n"
     ]
    }
   ],
   "source": [
    "ListName = [\"Hello\", \"Edureka\", 1, 2, 3]\n",
    "print (\"Number of items in the list = \", len(ListName))"
   ]
  },
  {
   "cell_type": "code",
   "execution_count": 22,
   "id": "00f199c9",
   "metadata": {},
   "outputs": [
    {
     "name": "stdout",
     "output_type": "stream",
     "text": [
      "How many numbers: 2\n",
      "Enter number 1\n",
      "Enter number 2\n"
     ]
    },
    {
     "ename": "NameError",
     "evalue": "name 'add' is not defined",
     "output_type": "error",
     "traceback": [
      "\u001b[1;31m---------------------------------------------------------------------------\u001b[0m",
      "\u001b[1;31mNameError\u001b[0m                                 Traceback (most recent call last)",
      "\u001b[1;32m<ipython-input-22-d43076658897>\u001b[0m in \u001b[0;36m<module>\u001b[1;34m\u001b[0m\n\u001b[0;32m      6\u001b[0m \u001b[0mi\u001b[0m\u001b[1;33m=\u001b[0m\u001b[1;36m0\u001b[0m\u001b[1;33m;\u001b[0m\u001b[1;33m\u001b[0m\u001b[1;33m\u001b[0m\u001b[0m\n\u001b[0;32m      7\u001b[0m \u001b[1;32mif\u001b[0m \u001b[0mlst\u001b[0m\u001b[1;33m!=\u001b[0m\u001b[1;36m0\u001b[0m\u001b[1;33m:\u001b[0m\u001b[1;33m\u001b[0m\u001b[1;33m\u001b[0m\u001b[0m\n\u001b[1;32m----> 8\u001b[1;33m     \u001b[0madd\u001b[0m\u001b[1;33m+=\u001b[0m\u001b[0mlst\u001b[0m\u001b[1;33m[\u001b[0m\u001b[1;36m0\u001b[0m\u001b[1;33m]\u001b[0m\u001b[1;33m;\u001b[0m\u001b[1;33m\u001b[0m\u001b[1;33m\u001b[0m\u001b[0m\n\u001b[0m\u001b[0;32m      9\u001b[0m     \u001b[0mi\u001b[0m\u001b[1;33m+\u001b[0m\u001b[1;36m1\u001b[0m\u001b[1;33m;\u001b[0m\u001b[1;33m\u001b[0m\u001b[1;33m\u001b[0m\u001b[0m\n\u001b[0;32m     10\u001b[0m \u001b[0mprint\u001b[0m\u001b[1;33m(\u001b[0m\u001b[0madd\u001b[0m\u001b[1;33m)\u001b[0m\u001b[1;33m;\u001b[0m\u001b[1;33m\u001b[0m\u001b[1;33m\u001b[0m\u001b[0m\n",
      "\u001b[1;31mNameError\u001b[0m: name 'add' is not defined"
     ]
    }
   ],
   "source": [
    "lst = []\n",
    "num = int(input('How many numbers: '));\n",
    "for n in range(num):\n",
    "    numbers = int(input('Enter number '));\n",
    "    lst.append(numbers);\n",
    "i=0;\n",
    "if lst!=0:\n",
    "    add+=lst[0];\n",
    "    i+1;\n",
    "print(add);"
   ]
  },
  {
   "cell_type": "code",
   "execution_count": 24,
   "id": "24bc9665",
   "metadata": {},
   "outputs": [
    {
     "name": "stdout",
     "output_type": "stream",
     "text": [
      "1\n"
     ]
    }
   ],
   "source": [
    "def sum_list(items):\n",
    "    sum_numbers = 0\n",
    "    for x in items:\n",
    "        sum_numbers += x\n",
    "    return sum_numbers\n",
    "print(sum_list([1,2,-2]))"
   ]
  },
  {
   "cell_type": "code",
   "execution_count": 25,
   "id": "3c4100fa",
   "metadata": {},
   "outputs": [
    {
     "name": "stdout",
     "output_type": "stream",
     "text": [
      "2\n"
     ]
    }
   ],
   "source": [
    "def max_num_in_list( list ):\n",
    "    max = list[ 0 ]\n",
    "    for a in list:\n",
    "        if a > max:\n",
    "            max = a\n",
    "    return max\n",
    "print(max_num_in_list([1, 2, -8, 0]))"
   ]
  },
  {
   "cell_type": "code",
   "execution_count": 26,
   "id": "d699cd97",
   "metadata": {},
   "outputs": [
    {
     "name": "stdout",
     "output_type": "stream",
     "text": [
      "1\n",
      "\n",
      "1\n",
      "\n",
      "2\n",
      "\n",
      "3\n",
      "\n"
     ]
    }
   ],
   "source": [
    "test_list= [1, 1, 2, 3, 5, 8, 13, 21, 34, 55, 89]\n",
    "for element in test_list:\n",
    "    if(int(element) <5):\n",
    "        print(str(element)+\"\\n\")"
   ]
  },
  {
   "cell_type": "code",
   "execution_count": 28,
   "id": "2dad0f80",
   "metadata": {},
   "outputs": [
    {
     "name": "stdout",
     "output_type": "stream",
     "text": [
      "Enter English Marks: 50\n",
      "Enter Islamiat Marks: 50\n",
      "Enter Maths Marks: 50\n",
      "Enter Physics Marks: 50\n",
      "Enter Chemistry Marks: 50\n",
      "Grade D\n"
     ]
    }
   ],
   "source": [
    "English =int(input(\"Enter English Marks: \"));\n",
    "Islamiat =int(input(\"Enter Islamiat Marks: \"));\n",
    "Maths = int(input(\"Enter Maths Marks: \"));\n",
    "Physics = int(input(\"Enter Physics Marks: \"));\n",
    "Chemistry = int(input(\"Enter Chemistry Marks: \"));\n",
    "if English>100 or Islamiat>100 or Maths>100 or Physics>100 or Chemistry>100 or English<0 or Islamiat<0 or Maths<0 or Physics<0 or Chemistry<0:\n",
    "    print(\"ENTER VALID MARKS BETWEEN 0 AND 100!!\");\n",
    "Total=English+Islamiat+Maths+Physics+Chemistry;\n",
    "percentage = (Total/500)*100;\n",
    "percentage=int(percentage);\n",
    "if percentage>=90 and percentage<100:\n",
    "    print(\"Grade A\");\n",
    "elif percentage>=80 and percentage<90:\n",
    "    print(\"Grade B\");\n",
    "elif percentage>=70 and percentage<80:\n",
    "    print(\"Grade C\");\n",
    "elif percentage>=60 and percentage<70:\n",
    "    print(\"Grade D\");\n",
    "elif percentage>=50 and percentage<60:\n",
    "    print(\"Grade E\");\n",
    "else:\n",
    "    print(\"FAILED\");"
   ]
  },
  {
   "cell_type": "code",
   "execution_count": null,
   "id": "f0e2325d",
   "metadata": {},
   "outputs": [],
   "source": []
  }
 ],
 "metadata": {
  "kernelspec": {
   "display_name": "Python 3",
   "language": "python",
   "name": "python3"
  },
  "language_info": {
   "codemirror_mode": {
    "name": "ipython",
    "version": 3
   },
   "file_extension": ".py",
   "mimetype": "text/x-python",
   "name": "python",
   "nbconvert_exporter": "python",
   "pygments_lexer": "ipython3",
   "version": "3.8.8"
  }
 },
 "nbformat": 4,
 "nbformat_minor": 5
}
