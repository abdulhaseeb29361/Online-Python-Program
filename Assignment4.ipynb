{
 "cells": [
  {
   "cell_type": "code",
   "execution_count": 2,
   "id": "ec71221c",
   "metadata": {},
   "outputs": [
    {
     "name": "stdout",
     "output_type": "stream",
     "text": [
      "Enter First Number= 2\n",
      "Enter Second Number= 2\n",
      "Enter Operator for Calculation +,-,*,/,****\n",
      "4\n"
     ]
    }
   ],
   "source": [
    "a=int(input(\"Enter First Number= \"))\n",
    "b=int(input(\"Enter Second Number= \"))\n",
    "c=input(\"Enter Operator for Calculation +,-,*,/,**\")\n",
    "if c==\"+\":\n",
    "    d=a+b\n",
    "    print(d)\n",
    "elif c==\"-\":\n",
    "    d=a-b\n",
    "    print(d)\n",
    "elif c==\"*\":\n",
    "    d=a*b\n",
    "    print(d)\n",
    "elif c==\"/\":\n",
    "    d=a/b\n",
    "    print(d)\n",
    "elif c==\"**\":\n",
    "    d=a**b\n",
    "    print(d)\n",
    "else:\n",
    "    print(\"! ENTER CORRECT OPERATOR\")"
   ]
  },
  {
   "cell_type": "code",
   "execution_count": 16,
   "id": "772ed96a",
   "metadata": {},
   "outputs": [
    {
     "name": "stdout",
     "output_type": "stream",
     "text": [
      "1\n",
      "3\n",
      "4\n",
      "6\n",
      "7\n",
      "8\n"
     ]
    }
   ],
   "source": [
    "lst=[\"a\",1,3,4,6,7,8,'c']\n",
    "for i in lst:\n",
    "    if(type(i)==int):\n",
    "        print(i)"
   ]
  },
  {
   "cell_type": "code",
   "execution_count": 22,
   "id": "77ff1bfa",
   "metadata": {},
   "outputs": [
    {
     "data": {
      "text/plain": [
       "{1: 'a', 2: 'b', 3: 'c', 4: 'e'}"
      ]
     },
     "execution_count": 22,
     "metadata": {},
     "output_type": "execute_result"
    }
   ],
   "source": [
    "dic={1:'a',2:'b',3:'c',4:'d'}\n",
    "dic\n",
    "dic[4]='e'\n",
    "dic"
   ]
  },
  {
   "cell_type": "code",
   "execution_count": 64,
   "id": "577697d4",
   "metadata": {},
   "outputs": [
    {
     "name": "stdout",
     "output_type": "stream",
     "text": [
      "5\n",
      "6\n"
     ]
    }
   ],
   "source": [
    "di={1:'a',2:'b',3:'c',4:'d',5:5,6:6}\n",
    "for i in di.values():\n",
    "    if(type(i)==int):\n",
    "        print(i)\n",
    "        total+=di[i]\n",
    "        \n"
   ]
  },
  {
   "cell_type": "code",
   "execution_count": 65,
   "id": "bebbcfff",
   "metadata": {},
   "outputs": [
    {
     "name": "stdout",
     "output_type": "stream",
     "text": [
      "302\n"
     ]
    }
   ],
   "source": [
    "mydic = {'d1':1,'d2':54,'d3':247}\n",
    "print(sum(mydic.values()))"
   ]
  },
  {
   "cell_type": "code",
   "execution_count": 68,
   "id": "c4a52707",
   "metadata": {},
   "outputs": [
    {
     "ename": "IndexError",
     "evalue": "list index out of range",
     "output_type": "error",
     "traceback": [
      "\u001b[1;31m---------------------------------------------------------------------------\u001b[0m",
      "\u001b[1;31mIndexError\u001b[0m                                Traceback (most recent call last)",
      "\u001b[1;32m<ipython-input-68-99345db263be>\u001b[0m in \u001b[0;36m<module>\u001b[1;34m\u001b[0m\n\u001b[0;32m      2\u001b[0m \u001b[1;32mfor\u001b[0m \u001b[0mi\u001b[0m \u001b[1;32min\u001b[0m \u001b[0mlis\u001b[0m\u001b[1;33m:\u001b[0m\u001b[1;33m\u001b[0m\u001b[1;33m\u001b[0m\u001b[0m\n\u001b[0;32m      3\u001b[0m     \u001b[1;32mfor\u001b[0m \u001b[0mj\u001b[0m \u001b[1;32min\u001b[0m \u001b[0mlis\u001b[0m\u001b[1;33m:\u001b[0m\u001b[1;33m\u001b[0m\u001b[1;33m\u001b[0m\u001b[0m\n\u001b[1;32m----> 4\u001b[1;33m         \u001b[1;32mif\u001b[0m \u001b[0mi\u001b[0m\u001b[1;33m==\u001b[0m\u001b[0mlis\u001b[0m\u001b[1;33m[\u001b[0m\u001b[0mj\u001b[0m\u001b[1;33m]\u001b[0m\u001b[1;33m:\u001b[0m\u001b[1;33m\u001b[0m\u001b[1;33m\u001b[0m\u001b[0m\n\u001b[0m\u001b[0;32m      5\u001b[0m             \u001b[0mprint\u001b[0m\u001b[1;33m(\u001b[0m\u001b[0mlis\u001b[0m\u001b[1;33m[\u001b[0m\u001b[0mj\u001b[0m\u001b[1;33m]\u001b[0m\u001b[1;33m+\u001b[0m\u001b[1;34m\"Is a Duplicate Value\"\u001b[0m\u001b[1;33m)\u001b[0m\u001b[1;33m\u001b[0m\u001b[1;33m\u001b[0m\u001b[0m\n",
      "\u001b[1;31mIndexError\u001b[0m: list index out of range"
     ]
    }
   ],
   "source": [
    "lis=[1,2,4,5,6,7,8,5,4,2,1,3,52]\n",
    "for i in lis:\n",
    "    for j in lis:\n",
    "        if i==lis[j]:\n",
    "            print(lis[j]+\"Is a Duplicate Value\")"
   ]
  },
  {
   "cell_type": "code",
   "execution_count": 69,
   "id": "8f0f9399",
   "metadata": {},
   "outputs": [
    {
     "name": "stdout",
     "output_type": "stream",
     "text": [
      "2 3 4 5 "
     ]
    }
   ],
   "source": [
    "lis=[1,2,3,4,5,2,3,4,7,9,5]\n",
    "l1=[]\n",
    "for i in lis:\n",
    "    if i not in l1:\n",
    "        l1.append(i)\n",
    "    else:\n",
    "        print(i,end=' ')"
   ]
  },
  {
   "cell_type": "code",
   "execution_count": 70,
   "id": "7458b249",
   "metadata": {},
   "outputs": [
    {
     "name": "stdout",
     "output_type": "stream",
     "text": [
      "Key is present in the dictionary\n",
      "Key is not present in the dictionary\n"
     ]
    }
   ],
   "source": [
    "d = {1: 11, 2: 12, 3: 13, 4: 14, 5: 15, 6: 16}\n",
    "def IsKeyPresent(x):\n",
    "  if x in d:\n",
    "      print('Key is present in the dictionary')\n",
    "  else:\n",
    "      print('Key is not present in the dictionary')\n",
    "IsKeyPresent(5)\n",
    "IsKeyPresent(9)"
   ]
  },
  {
   "cell_type": "code",
   "execution_count": null,
   "id": "6f985620",
   "metadata": {},
   "outputs": [],
   "source": []
  }
 ],
 "metadata": {
  "kernelspec": {
   "display_name": "Python 3",
   "language": "python",
   "name": "python3"
  },
  "language_info": {
   "codemirror_mode": {
    "name": "ipython",
    "version": 3
   },
   "file_extension": ".py",
   "mimetype": "text/x-python",
   "name": "python",
   "nbconvert_exporter": "python",
   "pygments_lexer": "ipython3",
   "version": "3.8.8"
  }
 },
 "nbformat": 4,
 "nbformat_minor": 5
}
